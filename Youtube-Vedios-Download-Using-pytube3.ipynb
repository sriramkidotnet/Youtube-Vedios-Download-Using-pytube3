{
 "cells": [
  {
   "cell_type": "markdown",
   "id": "a69b8907-20cc-4975-a500-8748808b851f",
   "metadata": {},
   "source": [
    "Youtube vedios download using pytube3\n",
    " 1. install pytube package\n",
    " 2. update pytube package\n",
    " 3. import YouTube module\n",
    " 4. install yt_dlp module\n"
   ]
  },
  {
   "cell_type": "code",
   "execution_count": 2,
   "id": "0723bb8a-48f3-4496-8ec6-d4164ea5275b",
   "metadata": {},
   "outputs": [],
   "source": [
    "#pip install pytube3\n",
    "#pip install --upgrade pytube"
   ]
  },
  {
   "cell_type": "code",
   "execution_count": 4,
   "id": "aef2c28b-8bb4-46ca-86ff-6d01bf25ad39",
   "metadata": {},
   "outputs": [],
   "source": [
    "from pytube import YouTube"
   ]
  },
  {
   "cell_type": "code",
   "execution_count": 6,
   "id": "822b2481-2baa-47e0-8a64-f5fadad9e82a",
   "metadata": {},
   "outputs": [
    {
     "name": "stdout",
     "output_type": "stream",
     "text": [
      "Requirement already satisfied: yt-dlp in c:\\users\\kushi\\anaconda3\\lib\\site-packages (2024.8.6)\n",
      "Requirement already satisfied: brotli in c:\\users\\kushi\\anaconda3\\lib\\site-packages (from yt-dlp) (1.0.9)\n",
      "Requirement already satisfied: certifi in c:\\users\\kushi\\anaconda3\\lib\\site-packages (from yt-dlp) (2024.7.4)\n",
      "Requirement already satisfied: mutagen in c:\\users\\kushi\\anaconda3\\lib\\site-packages (from yt-dlp) (1.47.0)\n",
      "Requirement already satisfied: pycryptodomex in c:\\users\\kushi\\anaconda3\\lib\\site-packages (from yt-dlp) (3.20.0)\n",
      "Requirement already satisfied: requests<3,>=2.32.2 in c:\\users\\kushi\\anaconda3\\lib\\site-packages (from yt-dlp) (2.32.2)\n",
      "Requirement already satisfied: urllib3<3,>=1.26.17 in c:\\users\\kushi\\anaconda3\\lib\\site-packages (from yt-dlp) (2.2.2)\n",
      "Requirement already satisfied: websockets>=12.0 in c:\\users\\kushi\\anaconda3\\lib\\site-packages (from yt-dlp) (13.0.1)\n",
      "Requirement already satisfied: charset-normalizer<4,>=2 in c:\\users\\kushi\\anaconda3\\lib\\site-packages (from requests<3,>=2.32.2->yt-dlp) (2.0.4)\n",
      "Requirement already satisfied: idna<4,>=2.5 in c:\\users\\kushi\\anaconda3\\lib\\site-packages (from requests<3,>=2.32.2->yt-dlp) (3.7)\n",
      "Note: you may need to restart the kernel to use updated packages.\n"
     ]
    }
   ],
   "source": [
    "pip install yt-dlp"
   ]
  },
  {
   "cell_type": "code",
   "execution_count": 8,
   "id": "6bfa4057-e432-4337-a59a-0d3cdff72c40",
   "metadata": {},
   "outputs": [
    {
     "name": "stdin",
     "output_type": "stream",
     "text": [
      "Enter youtube link https://www.youtube.com/watch?v=u-ym7BWHO-g&t=393s\n"
     ]
    }
   ],
   "source": [
    "link=input('Enter youtube link')\n",
    "yt=YouTube(link)"
   ]
  },
  {
   "cell_type": "code",
   "execution_count": 10,
   "id": "ac9c02d5-92f5-4750-aa6b-cd639a9bae59",
   "metadata": {},
   "outputs": [
    {
     "name": "stdout",
     "output_type": "stream",
     "text": [
      "Title : Exploring Generative AI through Computer Vision | Session-1\n",
      "Views : 1945\n",
      "Duration : 4267\n",
      "Description : None\n",
      "Ratings : None\n"
     ]
    }
   ],
   "source": [
    "# To print title\n",
    "print(\"Title :\", yt.title)\n",
    "# To get number of views\n",
    "print(\"Views :\", yt.views)\n",
    "# To get the length of video\n",
    "print(\"Duration :\", yt.length)\n",
    "# To get description\n",
    "print(\"Description :\", yt.description)\n",
    "# To get ratings\n",
    "print(\"Ratings :\", yt.rating)"
   ]
  },
  {
   "cell_type": "code",
   "execution_count": 18,
   "id": "72889140-926e-4b4f-913c-00628fbcae40",
   "metadata": {},
   "outputs": [],
   "source": [
    "from yt_dlp import YoutubeDL\n"
   ]
  },
  {
   "cell_type": "code",
   "execution_count": 20,
   "id": "940d8d2b-cf1d-49ca-b706-fdc641efe1db",
   "metadata": {},
   "outputs": [
    {
     "name": "stdin",
     "output_type": "stream",
     "text": [
      "Do you want to download this video? (yes/no):  yes\n"
     ]
    },
    {
     "name": "stdout",
     "output_type": "stream",
     "text": [
      "Downloading..\n",
      "[youtube] Extracting URL: https://www.youtube.com/watch?v=u-ym7BWHO-g&t=393s\n",
      "[youtube] u-ym7BWHO-g: Downloading webpage\n",
      "[youtube] u-ym7BWHO-g: Downloading ios player API JSON\n",
      "[youtube] u-ym7BWHO-g: Downloading web creator player API JSON\n",
      "[youtube] u-ym7BWHO-g: Downloading player 3abab6ef\n",
      "[youtube] u-ym7BWHO-g: Downloading m3u8 information\n",
      "[info] u-ym7BWHO-g: Downloading 1 format(s): 18\n",
      "[download] Destination: Exploring Generative AI through Computer Vision ｜ Session-1 [u-ym7BWHO-g].mp4\n",
      "[download] 100% of   83.30MiB in 00:00:16 at 5.14MiB/s     \n",
      "Download completed\n"
     ]
    }
   ],
   "source": [
    "download_option=input(\"Do you want to download this video? (yes/no): \").lower()\n",
    "if download_option=='yes':\n",
    "    url='https://www.youtube.com/watch?v=u-ym7BWHO-g&t=393s'\n",
    "    ydl_opts={'format':'best'}\n",
    "    with YoutubeDL(ydl_opts) as ydl:\n",
    "        print('Downloading..')\n",
    "        ydl.download([url])\n",
    "        print('Download completed')\n",
    "else:\n",
    "    print('download aborted.')\n",
    "    "
   ]
  },
  {
   "cell_type": "code",
   "execution_count": 22,
   "id": "c4433dbe-f789-4d06-a31c-05aa0d44be4f",
   "metadata": {},
   "outputs": [
    {
     "data": {
      "text/plain": [
       "'C:\\\\Users\\\\Kushi'"
      ]
     },
     "execution_count": 22,
     "metadata": {},
     "output_type": "execute_result"
    }
   ],
   "source": [
    "import os\n",
    "os.getcwd()"
   ]
  },
  {
   "cell_type": "code",
   "execution_count": null,
   "id": "6ce00850-82fc-46b8-8758-7fadb5fab618",
   "metadata": {},
   "outputs": [],
   "source": []
  }
 ],
 "metadata": {
  "kernelspec": {
   "display_name": "Python 3 (ipykernel)",
   "language": "python",
   "name": "python3"
  },
  "language_info": {
   "codemirror_mode": {
    "name": "ipython",
    "version": 3
   },
   "file_extension": ".py",
   "mimetype": "text/x-python",
   "name": "python",
   "nbconvert_exporter": "python",
   "pygments_lexer": "ipython3",
   "version": "3.12.4"
  }
 },
 "nbformat": 4,
 "nbformat_minor": 5
}
